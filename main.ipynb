{
 "cells": [
  {
   "cell_type": "code",
   "execution_count": 102,
   "metadata": {},
   "outputs": [],
   "source": [
    "from keras.datasets import mnist\n",
    "import matplotlib.pyplot as plt\n",
    "import numpy as np\n",
    "\n",
    "from keras.models import Sequential\n",
    "from keras.layers import Dense, Conv2D, MaxPooling2D, Flatten\n",
    "from keras.optimizers import Adam"
   ]
  },
  {
   "cell_type": "code",
   "execution_count": 103,
   "metadata": {},
   "outputs": [
    {
     "name": "stdout",
     "output_type": "stream",
     "text": [
      "X_train.shape == (60000, 784)\n",
      "y_train.shape == (60000, 784)\n",
      "X_test.shape == (10000, 784)\n",
      "y_test.shape == (10000, 784)\n"
     ]
    }
   ],
   "source": [
    "# load the data\n",
    "(X_train, _), (X_test, _) = mnist.load_data()\n",
    "\n",
    "# normalize the input data\n",
    "X_train = X_train/255\n",
    "X_test = X_test/255\n",
    "\n",
    "# rotate input images and set as target output images\n",
    "y_train = np.rot90(X_train, 2, axes=(1,2))\n",
    "y_test = np.rot90(X_test, 2, axes=(1,2))\n",
    "\n",
    "img_row, img_col = X_train.shape[1], X_train.shape[2]\n",
    "\n",
    "# reshape images to one dimension\n",
    "X_train = X_train.reshape(X_train.shape[0], img_row*img_col)\n",
    "X_test = X_test.reshape(X_test.shape[0], img_row*img_col)\n",
    "y_train = y_train.reshape(y_train.shape[0], img_row*img_col)\n",
    "y_test = y_test.reshape(y_test.shape[0], img_row*img_col)\n",
    "\n",
    "print(\"X_train.shape == \" + str(X_train.shape))\n",
    "print(\"y_train.shape == \" + str(y_train.shape))\n",
    "print(\"X_test.shape == \" + str(X_test.shape))\n",
    "print(\"y_test.shape == \" + str(y_test.shape))"
   ]
  },
  {
   "cell_type": "code",
   "execution_count": 104,
   "metadata": {},
   "outputs": [
    {
     "data": {
      "image/png": "[encoded data removed]",
      "text/plain": [
       "<Figure size 432x288 with 1 Axes>"
      ]
     },
     "metadata": {},
     "output_type": "display_data"
    }
   ],
   "source": [
    "# plot sample of input image\n",
    "plt.imshow(X_train[30].reshape(img_row, img_col))\n",
    "plt.show()"
   ]
  },
  {
   "cell_type": "code",
   "execution_count": 105,
   "metadata": {},
   "outputs": [
    {
     "data": {
      "image/png": "[encoded data removed]",
      "text/plain": [
       "<Figure size 432x288 with 1 Axes>"
      ]
     },
     "metadata": {},
     "output_type": "display_data"
    }
   ],
   "source": [
    "# plot associated output image\n",
    "plt.imshow(y_train[30].reshape(img_row, img_col))\n",
    "plt.show()"
   ]
  },
  {
   "cell_type": "code",
   "execution_count": 106,
   "metadata": {},
   "outputs": [],
   "source": [
    "# build the model\n",
    "model = Sequential()\n",
    "model.add(Dense(784, activation='elu', input_shape=(img_row*img_col,)))"
   ]
  },
  {
   "cell_type": "code",
   "execution_count": 107,
   "metadata": {},
   "outputs": [
    {
     "name": "stdout",
     "output_type": "stream",
     "text": [
      "Train on 60000 samples, validate on 10000 samples\n",
      "Epoch 1/10\n",
      "60000/60000 [==============================] - 12s 194us/step - loss: 0.0084 - val_loss: 0.0014\n",
      "Epoch 2/10\n",
      "60000/60000 [==============================] - 24s 402us/step - loss: 6.6280e-04 - val_loss: 2.3826e-04\n",
      "Epoch 3/10\n",
      "60000/60000 [==============================] - 24s 401us/step - loss: 1.2971e-04 - val_loss: 6.1768e-05\n",
      "Epoch 4/10\n",
      "60000/60000 [==============================] - 24s 401us/step - loss: 8.1149e-05 - val_loss: 8.7919e-05\n",
      "Epoch 5/10\n",
      "60000/60000 [==============================] - 24s 402us/step - loss: 9.0916e-05 - val_loss: 5.5878e-05\n",
      "Epoch 6/10\n",
      "60000/60000 [==============================] - 23s 388us/step - loss: 8.5832e-05 - val_loss: 9.1896e-05\n",
      "Epoch 7/10\n",
      "60000/60000 [==============================] - 24s 401us/step - loss: 9.1267e-05 - val_loss: 1.9581e-04\n",
      "Epoch 8/10\n",
      "60000/60000 [==============================] - 24s 404us/step - loss: 8.4583e-05 - val_loss: 1.0163e-04\n",
      "Epoch 9/10\n",
      "60000/60000 [==============================] - 24s 402us/step - loss: 8.6697e-05 - val_loss: 9.6763e-05\n",
      "Epoch 10/10\n",
      "60000/60000 [==============================] - 24s 401us/step - loss: 8.2295e-05 - val_loss: 1.0566e-04\n"
     ]
    },
    {
     "data": {
      "text/plain": [
       "<keras.callbacks.History at 0x7f91a0d28cf8>"
      ]
     },
     "execution_count": 107,
     "metadata": {},
     "output_type": "execute_result"
    }
   ],
   "source": [
    "# train the model\n",
    "model.compile(optimizer=Adam(lr=0.001), loss='mse')\n",
    "model.fit(X_train, y_train, epochs=10, validation_data=(X_test, y_test))"
   ]
  },
  {
   "cell_type": "code",
   "execution_count": 108,
   "metadata": {},
   "outputs": [
    {
     "data": {
      "image/png": "[encoded data removed]",
      "text/plain": [
       "<Figure size 432x288 with 1 Axes>"
      ]
     },
     "metadata": {},
     "output_type": "display_data"
    }
   ],
   "source": [
    "# plot sample test image\n",
    "plt.imshow(X_test[24].reshape(img_row, img_col))\n",
    "plt.show()"
   ]
  },
  {
   "cell_type": "code",
   "execution_count": 109,
   "metadata": {},
   "outputs": [],
   "source": [
    "# pass test image through the model to get generated image\n",
    "result = model.predict(np.array([X_test[24]]))"
   ]
  },
  {
   "cell_type": "code",
   "execution_count": 110,
   "metadata": {},
   "outputs": [
    {
     "data": {
      "image/png": "[encoded data removed]",
      "text/plain": [
       "<Figure size 432x288 with 1 Axes>"
      ]
     },
     "metadata": {},
     "output_type": "display_data"
    }
   ],
   "source": [
    "# plot generated image\n",
    "plt.imshow(result.reshape(img_row, img_col))\n",
    "plt.show()"
   ]
  },
  {
   "cell_type": "code",
   "execution_count": null,
   "metadata": {},
   "outputs": [],
   "source": []
  }
 ],
 "metadata": {
  "kernelspec": {
   "display_name": "Python 3",
   "language": "python",
   "name": "python3"
  },
  "language_info": {
   "codemirror_mode": {
    "name": "ipython",
    "version": 3
   },
   "file_extension": ".py",
   "mimetype": "text/x-python",
   "name": "python",
   "nbconvert_exporter": "python",
   "pygments_lexer": "ipython3",
   "version": "3.6.5"
  }
 },
 "nbformat": 4,
 "nbformat_minor": 2
}
