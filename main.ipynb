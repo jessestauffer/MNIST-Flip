{
 "cells": [
  {
   "cell_type": "code",
   "execution_count": 86,
   "metadata": {},
   "outputs": [],
   "source": [
    "from keras.datasets import mnist\n",
    "import matplotlib.pyplot as plt\n",
    "import numpy as np\n",
    "\n",
    "from keras.models import Sequential\n",
    "from keras.layers import Dense, Conv2D, MaxPooling2D, Flatten\n",
    "from keras.optimizers import Adam"
   ]
  },
  {
   "cell_type": "code",
   "execution_count": 87,
   "metadata": {},
   "outputs": [
    {
     "name": "stdout",
     "output_type": "stream",
     "text": [
      "X_train.shape == (60000, 784)\n",
      "y_train.shape == (60000, 784)\n",
      "X_test.shape == (10000, 784)\n",
      "y_test.shape == (10000, 784)\n"
     ]
    }
   ],
   "source": [
    "# load the data\n",
    "(X_train, _), (X_test, _) = mnist.load_data()\n",
    "\n",
    "X_train = X_train/255\n",
    "X_test = X_test/255\n",
    "\n",
    "y_train = np.rot90(X_train, 2, axes=(1,2))\n",
    "y_test = np.rot90(X_test, 2, axes=(1,2))\n",
    "\n",
    "X_train = X_train.reshape(X_train.shape[0], 784)\n",
    "X_test = X_test.reshape(X_test.shape[0], 784)\n",
    "y_train = y_train.reshape(y_train.shape[0], 784)\n",
    "y_test = y_test.reshape(y_test.shape[0], 784)\n",
    "\n",
    "print(\"X_train.shape == \" + str(X_train.shape))\n",
    "print(\"y_train.shape == \" + str(y_train.shape))\n",
    "print(\"X_test.shape == \" + str(X_test.shape))\n",
    "print(\"y_test.shape == \" + str(y_test.shape))"
   ]
  },
  {
   "cell_type": "code",
   "execution_count": 88,
   "metadata": {},
   "outputs": [
    {
     "data": {
      "image/png": "[encoded data removed]",
      "text/plain": [
       "<Figure size 432x288 with 1 Axes>"
      ]
     },
     "metadata": {},
     "output_type": "display_data"
    }
   ],
   "source": [
    "plt.imshow(X_train[30].reshape(28, 28))\n",
    "plt.show()"
   ]
  },
  {
   "cell_type": "code",
   "execution_count": 89,
   "metadata": {},
   "outputs": [
    {
     "data": {
      "image/png": "[encoded data removed]",
      "text/plain": [
       "<Figure size 432x288 with 1 Axes>"
      ]
     },
     "metadata": {},
     "output_type": "display_data"
    }
   ],
   "source": [
    "plt.imshow(y_train[30].reshape(28, 28))\n",
    "plt.show()"
   ]
  },
  {
   "cell_type": "code",
   "execution_count": 90,
   "metadata": {},
   "outputs": [],
   "source": [
    "# build the model\n",
    "model = Sequential()\n",
    "model.add(Dense(784, activation='elu', input_shape=(784,)))"
   ]
  },
  {
   "cell_type": "code",
   "execution_count": 91,
   "metadata": {},
   "outputs": [
    {
     "name": "stdout",
     "output_type": "stream",
     "text": [
      "Train on 60000 samples, validate on 10000 samples\n",
      "Epoch 1/10\n",
      "60000/60000 [==============================] - 24s 405us/step - loss: 0.0085 - val_loss: 0.0015\n",
      "Epoch 2/10\n",
      "60000/60000 [==============================] - 21s 352us/step - loss: 6.6824e-04 - val_loss: 2.6148e-04\n",
      "Epoch 3/10\n",
      "60000/60000 [==============================] - 15s 247us/step - loss: 1.3022e-04 - val_loss: 8.9631e-05\n",
      "Epoch 4/10\n",
      "60000/60000 [==============================] - 24s 400us/step - loss: 8.4802e-05 - val_loss: 5.1538e-05\n",
      "Epoch 5/10\n",
      "60000/60000 [==============================] - 24s 402us/step - loss: 8.7448e-05 - val_loss: 5.6020e-05\n",
      "Epoch 6/10\n",
      "60000/60000 [==============================] - 24s 402us/step - loss: 8.5836e-05 - val_loss: 9.5497e-05\n",
      "Epoch 7/10\n",
      "60000/60000 [==============================] - 24s 400us/step - loss: 8.5935e-05 - val_loss: 5.0840e-05\n",
      "Epoch 8/10\n",
      "60000/60000 [==============================] - 23s 390us/step - loss: 8.7346e-05 - val_loss: 3.2454e-05\n",
      "Epoch 9/10\n",
      "60000/60000 [==============================] - 24s 401us/step - loss: 8.8263e-05 - val_loss: 1.0155e-04\n",
      "Epoch 10/10\n",
      "60000/60000 [==============================] - 24s 404us/step - loss: 8.7092e-05 - val_loss: 4.0912e-04\n"
     ]
    },
    {
     "data": {
      "text/plain": [
       "<keras.callbacks.History at 0x7f91a8ed3710>"
      ]
     },
     "execution_count": 91,
     "metadata": {},
     "output_type": "execute_result"
    }
   ],
   "source": [
    "model.compile(optimizer=Adam(lr=0.001), loss='mse')\n",
    "model.fit(X_train, y_train, epochs=10, validation_data=(X_test, y_test))"
   ]
  },
  {
   "cell_type": "code",
   "execution_count": 92,
   "metadata": {},
   "outputs": [
    {
     "data": {
      "image/png": "[encoded data removed]",
      "text/plain": [
       "<Figure size 432x288 with 1 Axes>"
      ]
     },
     "metadata": {},
     "output_type": "display_data"
    }
   ],
   "source": [
    "plt.imshow(X_test[24].reshape(28, 28))\n",
    "plt.show()"
   ]
  },
  {
   "cell_type": "code",
   "execution_count": 93,
   "metadata": {},
   "outputs": [],
   "source": [
    "result = model.predict(np.array([X_test[24]]))"
   ]
  },
  {
   "cell_type": "code",
   "execution_count": 94,
   "metadata": {},
   "outputs": [
    {
     "data": {
      "image/png": "[encoded data removed]",
      "text/plain": [
       "<Figure size 432x288 with 1 Axes>"
      ]
     },
     "metadata": {},
     "output_type": "display_data"
    }
   ],
   "source": [
    "plt.imshow(result.reshape(28, 28))\n",
    "plt.show()"
   ]
  },
  {
   "cell_type": "code",
   "execution_count": null,
   "metadata": {},
   "outputs": [],
   "source": []
  }
 ],
 "metadata": {
  "kernelspec": {
   "display_name": "Python 3",
   "language": "python",
   "name": "python3"
  },
  "language_info": {
   "codemirror_mode": {
    "name": "ipython",
    "version": 3
   },
   "file_extension": ".py",
   "mimetype": "text/x-python",
   "name": "python",
   "nbconvert_exporter": "python",
   "pygments_lexer": "ipython3",
   "version": "3.6.5"
  }
 },
 "nbformat": 4,
 "nbformat_minor": 2
}
